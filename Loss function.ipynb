{
 "cells": [
  {
   "cell_type": "markdown",
   "id": "2dccd4e0",
   "metadata": {},
   "source": [
    "# LOSS FUNCTION"
   ]
  },
  {
   "cell_type": "markdown",
   "id": "dd5e3e31",
   "metadata": {},
   "source": [
    "Broadly,loss functions can be classified into two major categories depending upon the type of learning task we are dealing with — Regression losses and Classification losses."
   ]
  },
  {
   "cell_type": "markdown",
   "id": "e9e4dd69",
   "metadata": {},
   "source": [
    "# Regression loss"
   ]
  },
  {
   "cell_type": "markdown",
   "id": "00992a6b",
   "metadata": {},
   "source": [
    "# MSE/Mean Square error / L2 loss\n",
    "MSE = Summation from i to n(yi-y_hati)^2/n"
   ]
  },
  {
   "cell_type": "markdown",
   "id": "c0ebe0dd",
   "metadata": {},
   "source": [
    "1. To calculate MSE you take difference b/w model prediction and ground truth square it and then average it across the whole dataset\n",
    "2. MSE can never be negative\n",
    "3.MSE ensures that trained model has no outlier prediction with huge errors and this is achived because of squaring part of function\n",
    "4.sometimes we do not want to care about outliers and we need more generalised model for prediction in such cases MSE is not ideal loss function"
   ]
  },
  {
   "cell_type": "code",
   "execution_count": 16,
   "id": "61a28593",
   "metadata": {},
   "outputs": [
    {
     "name": "stdout",
     "output_type": "stream",
     "text": [
      "32137.346683350526\n"
     ]
    },
    {
     "data": {
      "image/png": "[encoded data removed]",
      "text/plain": [
       "<Figure size 432x288 with 1 Axes>"
      ]
     },
     "metadata": {
      "needs_background": "light"
     },
     "output_type": "display_data"
    }
   ],
   "source": [
    "import numpy as np\n",
    "import matplotlib.pyplot as plt\n",
    "\n",
    "y_pred = np.arange(-20, 20, 0.01)\n",
    "y_vals = np.square(y_pred)\n",
    "\n",
    "def mean_square_err(y_pred,y_vals):\n",
    "    squared_err = (y_pred - y_vals)**2\n",
    "    mean = squared_err.me-an()\n",
    "    return mean\n",
    "mse = mean_square_err(y_pred,y_vals)\n",
    "print(mse)\n",
    "\n",
    "plt.plot(y_pred,y_vals,'blue')\n",
    "plt.grid(True,which='major')\n",
    "plt.show()"
   ]
  },
  {
   "cell_type": "markdown",
   "id": "46e1f082",
   "metadata": {},
   "source": [
    "# Mean Absolute Error /L1 loss"
   ]
  },
  {
   "cell_type": "markdown",
   "id": "c8f30555",
   "metadata": {},
   "source": [
    "1. calculate MAE we tabe absolute difference b/w our predictions and ground truth and then average it across the whole dataset\n",
    "2.Like MSE, MAE can also never be negative\n",
    "3.Since we are taking absolute values all values will be weighted on same linear scale.Therfore unlike MSE,MAE doesnt put large wights on outliers and our loss function provides generic and even measure of how well our model performs\n",
    "4.MAE wont be effective in case we care about outliers"
   ]
  },
  {
   "cell_type": "code",
   "execution_count": 19,
   "id": "465ac7b3",
   "metadata": {},
   "outputs": [
    {
     "name": "stdout",
     "output_type": "stream",
     "text": [
      "10.004999999998438\n"
     ]
    },
    {
     "data": {
      "image/png": "[encoded data removed]",
      "text/plain": [
       "<Figure size 432x288 with 1 Axes>"
      ]
     },
     "metadata": {
      "needs_background": "light"
     },
     "output_type": "display_data"
    }
   ],
   "source": [
    "import numpy as np\n",
    "import matplotlib.pyplot as plt\n",
    "\n",
    "y_pred = np.arange(-20, 20, 0.01)\n",
    "y_vals = np.abs(y_pred)\n",
    "\n",
    "def mean_abs_err(y_pred,y_vals):\n",
    "    squared_err = np.absolute(y_pred - y_vals)\n",
    "    mean = squared_err.mean()\n",
    "    return mean\n",
    "mse = mean_abs_err(y_pred,y_vals)\n",
    "print(mse)\n",
    "\n",
    "plt.plot(y_pred,y_vals,'blue')\n",
    "plt.grid(True,which='major')\n",
    "plt.show()"
   ]
  },
  {
   "cell_type": "markdown",
   "id": "58fde4cb",
   "metadata": {},
   "source": [
    "# Mean Bias loss"
   ]
  },
  {
   "cell_type": "markdown",
   "id": "b59f42bc",
   "metadata": {},
   "source": [
    "1. MAE with no absolute term\n",
    "2. Should be careful as positive and negative error can cancel each other out\n",
    "3. Could be used to determin positive or negative bias"
   ]
  },
  {
   "cell_type": "markdown",
   "id": "798b1c85",
   "metadata": {},
   "source": [
    "# Huber loss"
   ]
  },
  {
   "cell_type": "markdown",
   "id": "283c117a",
   "metadata": {},
   "source": [
    "while MSE is greater for learning outliers and MAE for ignoring them huber loss lies somwhere in b.w these two choices.\n",
    "\n",
    "for loss value less than delta we use MSE and greater than delta we use MAE\n",
    "\n",
    "L(y,f(x)) = 1/2(y-f(x))^2 for |y-f(x)| <= delta\n",
    "          = delta(y-f(x)) -1/2 delta^2"
   ]
  },
  {
   "cell_type": "markdown",
   "id": "1fedba8e",
   "metadata": {},
   "source": [
    "https://towardsdatascience.com/understanding-the-3-most-common-loss-functions-for-machine-learning-regression-23e0ef3e14d3"
   ]
  },
  {
   "cell_type": "markdown",
   "id": "5ed7e788",
   "metadata": {},
   "source": [
    "# Classification loss"
   ]
  },
  {
   "cell_type": "markdown",
   "id": "667c5aaf",
   "metadata": {},
   "source": [
    "# Hinge loss/SVM loss\n",
    "Score of correct category most be greater than score of incorrect category by some margin(usually 1)"
   ]
  },
  {
   "cell_type": "markdown",
   "id": "9f4a5487",
   "metadata": {},
   "source": [
    "SVM loss = summation j!= i max(0,Sj - Syi+1)"
   ]
  },
  {
   "cell_type": "markdown",
   "id": "48bfea71",
   "metadata": {},
   "source": [
    "# Cross entropy loss"
   ]
  },
  {
   "cell_type": "markdown",
   "id": "6ff447e9",
   "metadata": {},
   "source": [
    "CEL = -(yilog(yi_hat) + (1-yi log(1-yi_hat)))"
   ]
  },
  {
   "cell_type": "markdown",
   "id": "987f6b8b",
   "metadata": {},
   "source": [
    " Before going to CEL lets understand softmax activation function"
   ]
  },
  {
   "cell_type": "markdown",
   "id": "1a453953",
   "metadata": {},
   "source": [
    "# Softmax Activation Function"
   ]
  },
  {
   "cell_type": "markdown",
   "id": "0cf22672",
   "metadata": {},
   "source": [
    "1. Usually placed in the last layer of activation\n",
    "2. It is used to normalize the o/p of a network to a probablity distribution over a predicted o/p classes\n",
    "3. O/p of softmax is a vector with probability of each possible outcome\n",
    "\n",
    "S(y)i = exp(yi)/ summation j=1 to j=n exp(jn)\n",
    "\n",
    "\n",
    "y-> i/p vector for function S.It has n elements for n classes\n",
    "yi-> ith element of i/p vector . value b/2 -inf to +inf\n",
    "exp(yi)-> value close to 0 if yi<0 and large value if yi is large\n",
    "denominator -> a normalization term. ensures summation to 1 and each term b/w 0 and 1\n",
    "n-> no. of class"
   ]
  },
  {
   "cell_type": "code",
   "execution_count": 6,
   "id": "8aae4496",
   "metadata": {},
   "outputs": [
    {
     "name": "stdout",
     "output_type": "stream",
     "text": [
      "4\n",
      "[0.19, 0.104, 0.697, 0.009]\n"
     ]
    }
   ],
   "source": [
    "from math import exp\n",
    "\n",
    "def softmax(input_vector):\n",
    "    exponents = 0\n",
    "    print(len(input_vector))\n",
    "    for i in range(len(input_vector)):\n",
    "        exponents = exponents + exp(input_vector[i])\n",
    "    S = [ round(exp(i)/exponents,3)for i in input_vector]\n",
    "    return S\n",
    "\n",
    "print(softmax([6.9,6.3,8.2,3.8]))"
   ]
  },
  {
   "cell_type": "markdown",
   "id": "644a8cef",
   "metadata": {},
   "source": [
    "# Cross entropy loss function"
   ]
  },
  {
   "cell_type": "markdown",
   "id": "0f762a70",
   "metadata": {},
   "source": [
    "The purpose of cross entropy is to take output probabilities(calc using softmax) and measure the distance from its truth value"
   ]
  },
  {
   "cell_type": "markdown",
   "id": "e771e3d0",
   "metadata": {},
   "source": [
    "# Entropy"
   ]
  },
  {
   "cell_type": "raw",
   "id": "e3ffd2f4",
   "metadata": {},
   "source": [
    "entropy of random variable X is the level of uncertainity inherent in the variables possible outcome"
   ]
  },
  {
   "cell_type": "markdown",
   "id": "a126e258",
   "metadata": {},
   "source": [
    "H(X) = - integration(p(x)log(p(x)))\n",
    "     = - summation(p(x))log(p(x))\n",
    "    \n",
    "Note: negative sign bcoz of p(x) is probabilty and log(p(x)) is negative as p(x) lies b/w 0 and 1"
   ]
  },
  {
   "cell_type": "markdown",
   "id": "21183852",
   "metadata": {},
   "source": [
    "Cross entropy loss\n",
    "L = - summation from i=1 to n (ti log(pi)) n classes\n",
    "ti -> truth label\n",
    "pi -> softmax probability"
   ]
  },
  {
   "cell_type": "markdown",
   "id": "e6ddc0f1",
   "metadata": {},
   "source": [
    "# Binary cross entropy loss"
   ]
  },
  {
   "cell_type": "markdown",
   "id": "8512a9d9",
   "metadata": {},
   "source": [
    "L = -summation from 1 to 2 (ti log(pi))\n",
    "\n",
    "  = -[t1logp1 + t2 logp2]\n",
    "  \n",
    "  = -[t log p + 1-t log(1-p)]"
   ]
  },
  {
   "cell_type": "markdown",
   "id": "89e06189",
   "metadata": {},
   "source": [
    "https://towardsdatascience.com/cross-entropy-loss-function-f38c4ec8643e"
   ]
  },
  {
   "cell_type": "code",
   "execution_count": null,
   "id": "7829fc43",
   "metadata": {},
   "outputs": [],
   "source": []
  }
 ],
 "metadata": {
  "kernelspec": {
   "display_name": "Python 3 (ipykernel)",
   "language": "python",
   "name": "python3"
  },
  "language_info": {
   "codemirror_mode": {
    "name": "ipython",
    "version": 3
   },
   "file_extension": ".py",
   "mimetype": "text/x-python",
   "name": "python",
   "nbconvert_exporter": "python",
   "pygments_lexer": "ipython3",
   "version": "3.9.0"
  }
 },
 "nbformat": 4,
 "nbformat_minor": 5
}
